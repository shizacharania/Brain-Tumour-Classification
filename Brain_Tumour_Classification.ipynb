{
  "cells": [
    {
      "cell_type": "markdown",
      "metadata": {
        "id": "view-in-github",
        "colab_type": "text"
      },
      "source": [
        "<a href=\"https://colab.research.google.com/github/shizacharania/Brain-Tumour-Classification/blob/main/Brain_Tumour_Classification.ipynb\" target=\"_parent\"><img src=\"https://colab.research.google.com/assets/colab-badge.svg\" alt=\"Open In Colab\"/></a>"
      ]
    },
    {
      "cell_type": "code",
      "execution_count": null,
      "metadata": {
        "id": "MAyLN3L40fLX"
      },
      "outputs": [],
      "source": [
        "# install kaggle\n",
        "!pip install -q kaggle"
      ]
    },
    {
      "cell_type": "code",
      "execution_count": null,
      "metadata": {
        "colab": {
          "base_uri": "https://localhost:8080/",
          "height": 90,
          "resources": {
            "http://localhost:8080/nbextensions/google.colab/files.js": {
              "data": "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",
              "headers": [
                [
                  "content-type",
                  "application/javascript"
                ]
              ],
              "ok": true,
              "status": 200,
              "status_text": ""
            }
          }
        },
        "id": "OvitX6-b0ozJ",
        "outputId": "6ee8ecb3-50c5-48f8-cba6-b4ccc78942e2"
      },
      "outputs": [
        {
          "output_type": "display_data",
          "data": {
            "text/html": [
              "\n",
              "     <input type=\"file\" id=\"files-b391e71e-1bee-455e-b1b9-dba5f4668a4b\" name=\"files[]\" multiple disabled\n",
              "        style=\"border:none\" />\n",
              "     <output id=\"result-b391e71e-1bee-455e-b1b9-dba5f4668a4b\">\n",
              "      Upload widget is only available when the cell has been executed in the\n",
              "      current browser session. Please rerun this cell to enable.\n",
              "      </output>\n",
              "      <script src=\"/nbextensions/google.colab/files.js\"></script> "
            ],
            "text/plain": [
              "<IPython.core.display.HTML object>"
            ]
          },
          "metadata": {}
        },
        {
          "output_type": "stream",
          "name": "stdout",
          "text": [
            "Saving kaggle.json to kaggle.json\n"
          ]
        },
        {
          "output_type": "execute_result",
          "data": {
            "text/plain": [
              "{'kaggle.json': b'{\"username\":\"shizacharania\",\"key\":\"f4d4c61a9252e57ae14d3185e707df48\"}'}"
            ]
          },
          "metadata": {},
          "execution_count": 2
        }
      ],
      "source": [
        "# upload the generated api token in .json format from local system\n",
        "from google.colab import files\n",
        "files.upload()"
      ]
    },
    {
      "cell_type": "code",
      "execution_count": null,
      "metadata": {
        "id": "XyndXf2t0q2y"
      },
      "outputs": [],
      "source": [
        "# make a kaggle directory in my files\n",
        "!mkdir ~/.kaggle"
      ]
    },
    {
      "cell_type": "code",
      "execution_count": null,
      "metadata": {
        "id": "yFxsSFYw0s0h"
      },
      "outputs": [],
      "source": [
        "# put the kaggle.json file in that directory\n",
        "!cp kaggle.json ~/.kaggle/"
      ]
    },
    {
      "cell_type": "code",
      "execution_count": null,
      "metadata": {
        "id": "BkdhKkxi0ujM"
      },
      "outputs": [],
      "source": [
        "# grant permission for the .json file to act\n",
        "!chmod 600 ~/.kaggle/kaggle.json"
      ]
    },
    {
      "cell_type": "code",
      "execution_count": null,
      "metadata": {
        "colab": {
          "base_uri": "https://localhost:8080/"
        },
        "id": "M3VcUxnA0wbW",
        "outputId": "1dce1b25-33c8-43a0-9b55-515da8f2125d"
      },
      "outputs": [
        {
          "output_type": "stream",
          "name": "stdout",
          "text": [
            "Warning: Looks like you're using an outdated API Version, please consider updating (server 1.5.12 / client 1.5.4)\n",
            "ref                                                         title                                               size  lastUpdated          downloadCount  \n",
            "----------------------------------------------------------  -------------------------------------------------  -----  -------------------  -------------  \n",
            "nkitgupta/jigsaw-regression-based-data                      Jigsaw Regression Based Data                         3GB  2022-01-10 06:29:59            676  \n",
            "yamqwe/omicron-covid19-variant-daily-cases                  Omicron daily cases by country (COVID-19 variant)  432KB  2022-01-30 09:11:54          12099  \n",
            "prasertk/netflix-subscription-price-in-different-countries  Netflix subscription fee in different countries      3KB  2022-01-15 07:06:09           1691  \n",
            "yasserh/wine-quality-dataset                                Wine Quality Dataset                                21KB  2022-01-15 19:15:11           1508  \n",
            "iamsouravbanerjee/analytics-industry-salaries-2022-india    Data Professionals Salary - 2022                    57KB  2022-02-02 04:35:21           1896  \n",
            "yamqwe/netflix-showse                                       Netflix Shows                                       11KB  2022-01-23 00:03:01            979  \n",
            "sanjeetsinghnaik/top-1000-highest-grossing-movies           Top 1000 Highest Grossing Movies                   106KB  2022-01-15 16:26:14           1008  \n",
            "yasserh/amazon-product-reviews-dataset                      Amazon Product Reviews Dataset                     708KB  2022-01-23 17:21:16            499  \n",
            "vishalmane10/anime-dataset-2022                             Anime DataSet 2022                                   5MB  2022-01-16 13:56:16            799  \n",
            "carlmcbrideellis/gdp-20152019-finland-norway-and-sweden     GDP 2015-2019: Finland, Norway, and Sweden          365B  2022-01-05 07:48:49            542  \n",
            "sandipdevre/petrol-prices-in-india                          Petrol Prices In India                               3KB  2022-01-27 09:07:35            318  \n",
            "yamqwe/shark-tank-companiese                                📱 Shark Tank Companies                              70KB  2022-01-30 21:01:58            184  \n",
            "dansbecker/melbourne-housing-snapshot                       Melbourne Housing Snapshot                         451KB  2018-06-05 12:52:24          79829  \n",
            "yamqwe/men-s-shoe-pricese                                   🩰 Men's Shoe Prices                                  6MB  2022-01-24 15:19:48            405  \n",
            "nenamalikah/nft-collections-by-sales-volume                 Top NFT Collections                                 47KB  2022-01-17 00:47:41            545  \n",
            "meetnagadia/netflix-stock-price-data-set-20022022           Netflix Stock Price Data set 2002-2022              94KB  2022-01-12 05:28:11            507  \n",
            "datasnaek/youtube-new                                       Trending YouTube Video Statistics                  201MB  2019-06-03 00:56:47         164782  \n",
            "zynicide/wine-reviews                                       Wine Reviews                                        51MB  2017-11-27 17:08:04         153488  \n",
            "fedesoriano/stellar-classification-dataset-sdss17           Stellar Classification Dataset - SDSS17              7MB  2022-01-15 17:11:30            489  \n",
            "rtatman/188-million-us-wildfires                            1.88 Million US Wildfires                          168MB  2020-05-12 21:03:49          18748  \n"
          ]
        }
      ],
      "source": [
        "# list available datsets to ensure that the API worked and kaggle's linked\n",
        "!kaggle datasets list"
      ]
    },
    {
      "cell_type": "code",
      "execution_count": null,
      "metadata": {
        "colab": {
          "base_uri": "https://localhost:8080/"
        },
        "id": "uuey68EO05vZ",
        "outputId": "42036609-1b36-417f-f016-ad40c8f4d0e8"
      },
      "outputs": [
        {
          "output_type": "stream",
          "name": "stdout",
          "text": [
            "Downloading brain-tumor-classification-mri.zip to /content\n",
            " 93% 81.0M/86.8M [00:00<00:00, 109MB/s] \n",
            "100% 86.8M/86.8M [00:00<00:00, 116MB/s]\n"
          ]
        }
      ],
      "source": [
        "# download the mri segmentation datset with its api command\n",
        "!kaggle datasets download -d sartajbhuvaji/brain-tumor-classification-mri"
      ]
    },
    {
      "cell_type": "code",
      "execution_count": null,
      "metadata": {
        "id": "IoTxc8NB4q24"
      },
      "outputs": [],
      "source": [
        "!unzip /content/brain-tumor-classification-mri.zip"
      ]
    },
    {
      "cell_type": "code",
      "execution_count": null,
      "metadata": {
        "colab": {
          "base_uri": "https://localhost:8080/"
        },
        "id": "kQ-LwPoT6TIQ",
        "outputId": "e4305fab-d038-49a6-9b3d-b194a27a9dc6"
      },
      "outputs": [
        {
          "output_type": "stream",
          "name": "stdout",
          "text": [
            "2870 394\n",
            "3264\n"
          ]
        }
      ],
      "source": [
        "import glob\n",
        "import cv2\n",
        "import os\n",
        "\n",
        "\n",
        "tr_gt = glob.glob(\"/content/Training/glioma_tumor/*\") # training images glioma tumor\n",
        "tr_mt = glob.glob(\"/content/Training/meningioma_tumor/*\")\n",
        "tr_none = glob.glob(\"/content/Training/no_tumor/*\")\n",
        "tr_pt = glob.glob(\"/content/Training/pituitary_tumor/*\")\n",
        "\n",
        "te_gt = glob.glob(\"/content/Testing/glioma_tumor/*\") # training images glioma tumor\n",
        "te_mt = glob.glob(\"/content/Testing/meningioma_tumor/*\")\n",
        "te_none = glob.glob(\"/content/Testing/no_tumor/*\")\n",
        "te_pt = glob.glob(\"/content/Testing/pituitary_tumor/*\")\n",
        "\n",
        "training_files = []\n",
        "testing_files = []\n",
        "\n",
        "def appendimages(list_files, g_files, m_files, none_files, p_files):\n",
        "  for gt in g_files:\n",
        "    list_files.append(gt)\n",
        "  for mt in m_files:\n",
        "    list_files.append(mt)\n",
        "  for nonet in none_files:\n",
        "    list_files.append(nonet)\n",
        "  for pt in p_files:\n",
        "    list_files.append(pt)\n",
        "\n",
        "appendimages(training_files, tr_gt, tr_mt, tr_none, tr_pt)\n",
        "appendimages(testing_files, te_gt, te_mt, te_none, te_pt)\n",
        "\n",
        "total_files = []\n",
        "for one_file1 in training_files:\n",
        "  total_files.append(one_file1)\n",
        "for one_file2 in testing_files:\n",
        "  total_files.append(one_file2)\n",
        "\n",
        "print(len(training_files), len(testing_files))\n",
        "print(len(total_files))"
      ]
    },
    {
      "cell_type": "code",
      "execution_count": null,
      "metadata": {
        "colab": {
          "base_uri": "https://localhost:8080/",
          "height": 355
        },
        "id": "XX6hm2jjqkBi",
        "outputId": "59941dc4-1751-4830-c352-e0aac5c46a11"
      },
      "outputs": [
        {
          "output_type": "stream",
          "name": "stdout",
          "text": [
            "926 937 500 901\n"
          ]
        },
        {
          "output_type": "execute_result",
          "data": {
            "text/plain": [
              "<BarContainer object of 4 artists>"
            ]
          },
          "metadata": {},
          "execution_count": 66
        },
        {
          "output_type": "display_data",
          "data": {
            "image/png": "[encoded data removed]",
            "text/plain": [
              "<Figure size 612x360 with 1 Axes>"
            ]
          },
          "metadata": {
            "needs_background": "light"
          }
        }
      ],
      "source": [
        "import matplotlib\n",
        "import matplotlib.pyplot as plt\n",
        "\n",
        "total_gt = len(tr_gt) + len(te_gt)\n",
        "total_mt = len(tr_mt) + len(te_mt)\n",
        "total_none = len(tr_none) + len(te_none)\n",
        "total_pt = len(tr_pt) + len(te_pt)\n",
        "\n",
        "print(total_gt, total_mt, total_none, total_pt)\n",
        "total_images = total_gt + total_mt + total_none + total_pt\n",
        "\n",
        "fig = plt.figure(figsize = (8.5, 5))\n",
        "\n",
        "plt.bar([\"Glioma Tumours\", \"Meningioma Tumours\", \"No Tumours\", \"Pituitary Tumours\"], [total_gt, total_mt, total_none, total_pt], color=[\"orange\", \"blue\", \"green\", \"red\"])"
      ]
    },
    {
      "cell_type": "code",
      "source": [
        "file_shapes = 0\n",
        "\n",
        "for each_file in total_files:\n",
        "  a_file = cv2.imread(each_file)\n",
        "  shp = a_file.shape[0]\n",
        "  file_shapes += shp\n",
        "\n",
        "mean_file_size = file_shapes/len(total_files)\n",
        "print(mean_file_size)"
      ],
      "metadata": {
        "colab": {
          "base_uri": "https://localhost:8080/"
        },
        "id": "aDkg5kG6K3gO",
        "outputId": "bc41a6e4-ff30-4759-811e-67ec335465ef"
      },
      "execution_count": null,
      "outputs": [
        {
          "output_type": "stream",
          "name": "stdout",
          "text": [
            "469.780943627451\n"
          ]
        }
      ]
    },
    {
      "cell_type": "code",
      "execution_count": null,
      "metadata": {
        "colab": {
          "base_uri": "https://localhost:8080/"
        },
        "id": "adjLvIHV3zFb",
        "outputId": "e487a008-db09-4704-94e6-3c15de144f73"
      },
      "outputs": [
        {
          "output_type": "stream",
          "name": "stdout",
          "text": [
            "Mean: tensor(0.0421)\n",
            "Standard Deviation: tensor(2.1139)\n"
          ]
        }
      ],
      "source": [
        "import torch\n",
        "\n",
        "# find mean and standard deviation\n",
        "num_pixels = total_images*mean_file_size*mean_file_size\n",
        "\n",
        "total_sum = 0\n",
        "for each_file in total_files:\n",
        "  a_file = cv2.imread(each_file)\n",
        "  a_file = cv2.resize(a_file, (int(mean_file_size), int(mean_file_size)))\n",
        "  a_tensor = torch.from_numpy(a_file)\n",
        "  total_sum += a_tensor[0].sum() # there is a [0] because you only need one channel's sum, not all 3\n",
        "  mean = total_sum/num_pixels\n",
        "\n",
        "# std calculated with formula\n",
        "sum_squared_error = 0\n",
        "for each_file in total_files:\n",
        "  a_file = cv2.imread(each_file)\n",
        "  a_file = cv2.resize(a_file, (int(mean_file_size), int(mean_file_size)))\n",
        "  a_tensor = torch.from_numpy(a_file)\n",
        "  sum_squared_error += ((a_tensor[0]-mean)**2).sum()\n",
        "  std = (sum_squared_error/num_pixels)**0.5\n",
        "\n",
        "print(\"Mean:\", mean)\n",
        "print(\"Standard Deviation:\", std)"
      ]
    },
    {
      "cell_type": "code",
      "execution_count": null,
      "metadata": {
        "id": "9p50ET-GdZUx"
      },
      "outputs": [],
      "source": [
        "from torchvision.transforms.transforms import RandomRotation\n",
        "import torch\n",
        "import torchvision\n",
        "import torchvision.transforms as transforms\n",
        "\n",
        "tr_image_data = []\n",
        "teimage_data = []\n",
        "tr_label_data = []\n",
        "telabel_data = []\n",
        "\n",
        "def loading_data(lst, datalist, labellist, yn_transforms):\n",
        "  count = 0\n",
        "  for d in lst:\n",
        "    if \"glioma_tumor\" in d:\n",
        "      labellist.append(int(0))\n",
        "    elif \"meningioma_tumor\"in d:\n",
        "      labellist.append(int(1))\n",
        "    elif \"no_tumor\"in d:\n",
        "      labellist.append(int(2))\n",
        "    elif \"pituitary_tumor\"in d:\n",
        "      labellist.append(int(3))\n",
        "\n",
        "    img = cv2.imread(str(d))\n",
        "    img = cv2.resize(img, (64,64))\n",
        "\n",
        "    # transforms\n",
        "    if yn_transforms == True: # training\n",
        "      transform = transforms.Compose([transforms.ToTensor(), \n",
        "                                      transforms.RandomHorizontalFlip(p=0.5), \n",
        "                                      transforms.RandomVerticalFlip(p=0.5),\n",
        "                                      transforms.Normalize(mean, std)])  \n",
        "      img = transform(img)\n",
        "\n",
        "      if count % 10 == 0:\n",
        "        another_transform = transforms.RandomRotation(degrees=(90))\n",
        "        img = another_transform(img)\n",
        "\n",
        "      datalist.append(img)\n",
        "\n",
        "    elif yn_transforms == False: # testing\n",
        "      transform = transforms.Compose([transforms.ToTensor(),\n",
        "                                      transforms.Normalize(mean, std)]) \n",
        "      img = transform(img)\n",
        "      datalist.append(img)\n",
        "    \n",
        "    count += 1\n"
      ]
    },
    {
      "cell_type": "code",
      "execution_count": null,
      "metadata": {
        "colab": {
          "base_uri": "https://localhost:8080/"
        },
        "id": "NLsK8vbJidGR",
        "outputId": "7c948ac8-c28e-4b0d-e71a-6df9962db465"
      },
      "outputs": [
        {
          "output_type": "stream",
          "name": "stdout",
          "text": [
            "torch.Size([3, 64, 64])\n"
          ]
        }
      ],
      "source": [
        "loading_data(training_files, tr_image_data, tr_label_data ,True)\n",
        "print(tr_image_data[0].shape)"
      ]
    },
    {
      "cell_type": "code",
      "execution_count": null,
      "metadata": {
        "colab": {
          "base_uri": "https://localhost:8080/"
        },
        "id": "1RqwOBk2jMtY",
        "outputId": "90e5e1d9-641d-4217-9c75-bad180ed8ef7"
      },
      "outputs": [
        {
          "output_type": "stream",
          "name": "stdout",
          "text": [
            "torch.Size([3, 64, 64])\n"
          ]
        }
      ],
      "source": [
        "loading_data(testing_files, teimage_data, telabel_data, False)\n",
        "print(teimage_data[0].shape) "
      ]
    },
    {
      "cell_type": "code",
      "execution_count": null,
      "metadata": {
        "colab": {
          "base_uri": "https://localhost:8080/"
        },
        "id": "BhZ3hVJ5bj27",
        "outputId": "8f52fedd-842b-4808-e810-02a92a7fcc6a"
      },
      "outputs": [
        {
          "output_type": "stream",
          "name": "stdout",
          "text": [
            "2870 2870\n",
            "394 394\n"
          ]
        }
      ],
      "source": [
        "print(len(tr_image_data), len(tr_label_data))\n",
        "print(len(teimage_data), len(telabel_data))"
      ]
    },
    {
      "cell_type": "code",
      "execution_count": null,
      "metadata": {
        "id": "NuqKffPsk-15"
      },
      "outputs": [],
      "source": [
        "len_trdataset = int(len(tr_image_data)*0.8) # 2296, but we use 2272 so it can divide evenly into the batch size\n",
        "trimage_data = tr_image_data[:2272]\n",
        "trlabel_data = tr_label_data[:2272]\n",
        "\n",
        "valid_len = (2870-2272) # 598 -> need 576\n",
        "vimage_data = tr_image_data[2294:] \n",
        "vlabel_data = tr_label_data[2294:]\n",
        "\n",
        "te_len = 0\n",
        "teimage_data = teimage_data[:384] \n",
        "telabel_data = telabel_data[:384]"
      ]
    },
    {
      "cell_type": "code",
      "execution_count": null,
      "metadata": {
        "colab": {
          "base_uri": "https://localhost:8080/"
        },
        "id": "U7CHjzBc3hV2",
        "outputId": "0c5e59ad-3703-411d-aa36-f554894eb0df"
      },
      "outputs": [
        {
          "output_type": "stream",
          "name": "stdout",
          "text": [
            "2272 2272\n",
            "576 576\n",
            "384 384\n"
          ]
        }
      ],
      "source": [
        "print(len(trimage_data), len(trlabel_data))\n",
        "print(len(vimage_data), len(vlabel_data))\n",
        "print(len(teimage_data), len(telabel_data))"
      ]
    },
    {
      "cell_type": "code",
      "source": [
        "import random\n",
        "\n",
        "training_data = list(zip(trimage_data, trlabel_data))\n",
        "random.shuffle(training_data)\n",
        "\n",
        "validation_data = list(zip(vimage_data, vlabel_data))\n",
        "random.shuffle(validation_data)\n",
        "\n",
        "\n",
        "testing_data = list(zip(teimage_data, telabel_data))\n",
        "random.shuffle(testing_data)\n",
        "\n",
        "print(len(training_data))\n",
        "print(len(validation_data))\n",
        "print(len(testing_data))"
      ],
      "metadata": {
        "colab": {
          "base_uri": "https://localhost:8080/"
        },
        "id": "LrA_NVC86_IX",
        "outputId": "f7736c27-d89b-4575-d67a-c76b5e9d862f"
      },
      "execution_count": null,
      "outputs": [
        {
          "output_type": "stream",
          "name": "stdout",
          "text": [
            "2272\n",
            "576\n",
            "384\n"
          ]
        }
      ]
    },
    {
      "cell_type": "code",
      "source": [
        "trainloader = torch.utils.data.DataLoader(training_data, shuffle=True, batch_size=32)\n",
        "validationloader = torch.utils.data.DataLoader(validation_data, shuffle=True, batch_size=32)\n",
        "testingloader = torch.utils.data.DataLoader(testing_data, shuffle=True, batch_size=32)"
      ],
      "metadata": {
        "id": "Esg9GHDF98QS"
      },
      "execution_count": null,
      "outputs": []
    },
    {
      "cell_type": "code",
      "source": [
        "print(len(trainloader))\n",
        "print(len(validationloader))\n",
        "print(len(testingloader))"
      ],
      "metadata": {
        "colab": {
          "base_uri": "https://localhost:8080/"
        },
        "id": "EPNUf55_Wa1Y",
        "outputId": "615fcc84-a5f2-4333-bdeb-2b05e5fa3976"
      },
      "execution_count": null,
      "outputs": [
        {
          "output_type": "stream",
          "name": "stdout",
          "text": [
            "71\n",
            "18\n",
            "12\n"
          ]
        }
      ]
    },
    {
      "cell_type": "code",
      "source": [
        "categories = [\"glioma_tumor\", \"meningioma_tumor\", \"no_tumor\", \"pituitary_tumor\"]"
      ],
      "metadata": {
        "id": "QWqlWASXmc2A"
      },
      "execution_count": null,
      "outputs": []
    },
    {
      "cell_type": "code",
      "source": [
        "print(\"TRAINING:\")\n",
        "trimages, trlabels = next(iter(trainloader))\n",
        "print(trimages.shape)\n",
        "print(len(trlabels))\n",
        "trimages = trimages.permute(0,2,3,1)\n",
        "plt.imshow(trimages[0])\n",
        "plt.show()\n",
        "print(categories[(trlabels[0])], \"\\n\")\n",
        "\n",
        "print(\"\\n\" + \"VALIDATION:\")\n",
        "vimages, vlabels = next(iter(validationloader))\n",
        "print(vimages.shape)\n",
        "print(len(vlabels))\n",
        "vimages = vimages.permute(0,2,3,1)\n",
        "plt.imshow(vimages[0])\n",
        "plt.show()\n",
        "print(categories[(vlabels[0])], \"\\n\")\n",
        "\n",
        "print(\"\\n\" + \"TESTING:\")\n",
        "teimages, telabels = next(iter(testingloader))\n",
        "print(teimages.shape)\n",
        "print(len(telabels))\n",
        "teimages = teimages.permute(0,2,3,1)\n",
        "plt.imshow(teimages[0])\n",
        "plt.show()\n",
        "print(categories[(telabels[0])])"
      ],
      "metadata": {
        "colab": {
          "base_uri": "https://localhost:8080/",
          "height": 1000
        },
        "id": "qOLgl28JXNml",
        "outputId": "6a9786df-0a39-43ca-cc2f-83f5f055e8d2"
      },
      "execution_count": null,
      "outputs": [
        {
          "output_type": "stream",
          "name": "stderr",
          "text": [
            "Clipping input data to the valid range for imshow with RGB data ([0..1] for floats or [0..255] for integers).\n"
          ]
        },
        {
          "output_type": "stream",
          "name": "stdout",
          "text": [
            "TRAINING:\n",
            "torch.Size([32, 3, 64, 64])\n",
            "32\n"
          ]
        },
        {
          "output_type": "display_data",
          "data": {
            "image/png": "[encoded data removed]",
            "text/plain": [
              "<Figure size 432x288 with 1 Axes>"
            ]
          },
          "metadata": {
            "needs_background": "light"
          }
        },
        {
          "output_type": "stream",
          "name": "stderr",
          "text": [
            "Clipping input data to the valid range for imshow with RGB data ([0..1] for floats or [0..255] for integers).\n"
          ]
        },
        {
          "output_type": "stream",
          "name": "stdout",
          "text": [
            "pituitary_tumor \n",
            "\n",
            "\n",
            "VALIDATION:\n",
            "torch.Size([32, 3, 64, 64])\n",
            "32\n"
          ]
        },
        {
          "output_type": "display_data",
          "data": {
            "image/png": "[encoded data removed]",
            "text/plain": [
              "<Figure size 432x288 with 1 Axes>"
            ]
          },
          "metadata": {
            "needs_background": "light"
          }
        },
        {
          "output_type": "stream",
          "name": "stderr",
          "text": [
            "Clipping input data to the valid range for imshow with RGB data ([0..1] for floats or [0..255] for integers).\n"
          ]
        },
        {
          "output_type": "stream",
          "name": "stdout",
          "text": [
            "pituitary_tumor \n",
            "\n",
            "\n",
            "TESTING:\n",
            "torch.Size([32, 3, 64, 64])\n",
            "32\n"
          ]
        },
        {
          "output_type": "display_data",
          "data": {
            "image/png": "[encoded data removed]",
            "text/plain": [
              "<Figure size 432x288 with 1 Axes>"
            ]
          },
          "metadata": {
            "needs_background": "light"
          }
        },
        {
          "output_type": "stream",
          "name": "stdout",
          "text": [
            "no_tumor\n"
          ]
        }
      ]
    },
    {
      "cell_type": "code",
      "source": [
        "# visualize the images\n",
        "nrows=4\n",
        "ncols=10\n",
        "images, labels = next(iter(trainloader))\n",
        "images = images.permute((0,2,3,1))\n",
        "\n",
        "plt.figure(figsize=(20, 20))\n",
        "for i in range(len(images[:10])):\n",
        "  plt.subplot(nrows, ncols, i+1)\n",
        "  plt.imshow(images[i])\n",
        "  plt.axis('off')\n",
        "  plt.subplots_adjust(wspace=0, hspace=0)\n",
        "plt.show()\n",
        "\n",
        "plt.figure(figsize=(20, 20))\n",
        "for j in labels[:10]:\n",
        "  print(categories[j], end=\"|\")"
      ],
      "metadata": {
        "colab": {
          "base_uri": "https://localhost:8080/",
          "height": 351
        },
        "id": "bXEX47wqbKYN",
        "outputId": "dec558cb-badc-4f5e-cf70-bc42492fa28a"
      },
      "execution_count": null,
      "outputs": [
        {
          "output_type": "stream",
          "name": "stderr",
          "text": [
            "Clipping input data to the valid range for imshow with RGB data ([0..1] for floats or [0..255] for integers).\n",
            "Clipping input data to the valid range for imshow with RGB data ([0..1] for floats or [0..255] for integers).\n",
            "Clipping input data to the valid range for imshow with RGB data ([0..1] for floats or [0..255] for integers).\n",
            "Clipping input data to the valid range for imshow with RGB data ([0..1] for floats or [0..255] for integers).\n",
            "Clipping input data to the valid range for imshow with RGB data ([0..1] for floats or [0..255] for integers).\n",
            "Clipping input data to the valid range for imshow with RGB data ([0..1] for floats or [0..255] for integers).\n",
            "Clipping input data to the valid range for imshow with RGB data ([0..1] for floats or [0..255] for integers).\n",
            "Clipping input data to the valid range for imshow with RGB data ([0..1] for floats or [0..255] for integers).\n",
            "Clipping input data to the valid range for imshow with RGB data ([0..1] for floats or [0..255] for integers).\n",
            "Clipping input data to the valid range for imshow with RGB data ([0..1] for floats or [0..255] for integers).\n"
          ]
        },
        {
          "output_type": "display_data",
          "data": {
            "image/png": "[encoded data removed]",
            "text/plain": [
              "<Figure size 1440x1440 with 10 Axes>"
            ]
          },
          "metadata": {
            "needs_background": "light"
          }
        },
        {
          "output_type": "stream",
          "name": "stdout",
          "text": [
            "meningioma_tumor|no_tumor|glioma_tumor|meningioma_tumor|no_tumor|glioma_tumor|pituitary_tumor|no_tumor|glioma_tumor|meningioma_tumor|"
          ]
        },
        {
          "output_type": "display_data",
          "data": {
            "text/plain": [
              "<Figure size 1440x1440 with 0 Axes>"
            ]
          },
          "metadata": {}
        }
      ]
    },
    {
      "cell_type": "code",
      "source": [
        "from torch.nn.modules.linear import Linear\n",
        "from torch.nn.modules.batchnorm import BatchNorm2d\n",
        "from torch import nn\n",
        "\n",
        "# model\n",
        "# Using batch normalization makes the network more stable during training. \n",
        "# This may require the use of much larger than normal learning rates, that in turn may further speed up the learning process.\n",
        "\n",
        "model = nn.Sequential(\n",
        "    # 64 x 64 x 3\n",
        "    nn.Conv2d(3, 16, kernel_size=3, stride=1, padding=1),\n",
        "    nn.ReLU(),\n",
        "    nn.BatchNorm2d(16),\n",
        "    # 64 x 64 x 16\n",
        "    nn.MaxPool2d(2,2),\n",
        "    # 32 x 32 x 16\n",
        "    nn.Conv2d(16, 32, kernel_size=3, stride=1, padding=1),\n",
        "    nn.ReLU(),\n",
        "    nn.BatchNorm2d(32),\n",
        "    # 32 x 32 x 32\n",
        "    nn.MaxPool2d(2,2),\n",
        "    # 16 x 16 x 32\n",
        "    # flatten\n",
        "    nn.Flatten(),\n",
        "    # 1 x 16384\n",
        "    nn.Linear(16*16*32, 512),\n",
        "    nn.ReLU(),\n",
        "    nn.Dropout(p=0.7),\n",
        "    nn.Linear(512,256),\n",
        "    nn.ReLU(),\n",
        "    nn.Dropout(p=0.6),\n",
        "    nn.Linear(256,4), # end output = number of classes\n",
        "    nn.Softmax(dim=1)) # for matrices, dim=1"
      ],
      "metadata": {
        "id": "G44l3Bijgl0H"
      },
      "execution_count": 527,
      "outputs": []
    },
    {
      "cell_type": "code",
      "source": [
        "print(model)"
      ],
      "metadata": {
        "colab": {
          "base_uri": "https://localhost:8080/"
        },
        "id": "PB-qy2909Faq",
        "outputId": "1c18c4c7-4c41-40a1-b4d7-925ba3337732"
      },
      "execution_count": 528,
      "outputs": [
        {
          "output_type": "stream",
          "name": "stdout",
          "text": [
            "Sequential(\n",
            "  (0): Conv2d(3, 16, kernel_size=(3, 3), stride=(1, 1), padding=(1, 1))\n",
            "  (1): ReLU()\n",
            "  (2): BatchNorm2d(16, eps=1e-05, momentum=0.1, affine=True, track_running_stats=True)\n",
            "  (3): MaxPool2d(kernel_size=2, stride=2, padding=0, dilation=1, ceil_mode=False)\n",
            "  (4): Conv2d(16, 32, kernel_size=(3, 3), stride=(1, 1), padding=(1, 1))\n",
            "  (5): ReLU()\n",
            "  (6): BatchNorm2d(32, eps=1e-05, momentum=0.1, affine=True, track_running_stats=True)\n",
            "  (7): MaxPool2d(kernel_size=2, stride=2, padding=0, dilation=1, ceil_mode=False)\n",
            "  (8): Flatten(start_dim=1, end_dim=-1)\n",
            "  (9): Linear(in_features=8192, out_features=512, bias=True)\n",
            "  (10): ReLU()\n",
            "  (11): Dropout(p=0.7, inplace=False)\n",
            "  (12): Linear(in_features=512, out_features=256, bias=True)\n",
            "  (13): ReLU()\n",
            "  (14): Dropout(p=0.6, inplace=False)\n",
            "  (15): Linear(in_features=256, out_features=4, bias=True)\n",
            "  (16): Softmax(dim=1)\n",
            ")\n"
          ]
        }
      ]
    },
    {
      "cell_type": "code",
      "source": [
        "# to check if the model works\n",
        "inp = torch.rand(1,3,64,64)\n",
        "print(inp.shape)\n",
        "\n",
        "out = model(inp)\n",
        "print(out.shape)"
      ],
      "metadata": {
        "colab": {
          "base_uri": "https://localhost:8080/"
        },
        "id": "bOPDqpRJ9N8F",
        "outputId": "96bf77ea-dc47-4380-90bc-03079ae39f80"
      },
      "execution_count": 529,
      "outputs": [
        {
          "output_type": "stream",
          "name": "stdout",
          "text": [
            "torch.Size([1, 3, 64, 64])\n",
            "torch.Size([1, 4])\n"
          ]
        }
      ]
    },
    {
      "cell_type": "code",
      "source": [
        "from torch import optim\n",
        "import datetime\n",
        "\n",
        "optimizer = optim.Adam(model.parameters(), lr=0.0001)\n",
        "criterion = nn.CrossEntropyLoss()"
      ],
      "metadata": {
        "id": "-sRdottkpxJo"
      },
      "execution_count": null,
      "outputs": []
    },
    {
      "cell_type": "code",
      "source": [
        "# training\n",
        "\n",
        "ttraining_losses = []\n",
        "tvalidation_losses = []\n",
        "\n",
        "epochs = 30\n",
        "\n",
        "for epoch in range(epochs):\n",
        "  start_epoch = datetime.datetime.now()\n",
        "  training_loss = 0\n",
        "  validation_loss = 0\n",
        "  model.train()\n",
        "  for images, labels in trainloader: # each batch at a time\n",
        "    optimizer.zero_grad()\n",
        "    outputs = model(images)\n",
        "    loss = criterion(outputs, labels)\n",
        "    loss.backward()\n",
        "    optimizer.step()\n",
        "\n",
        "    training_loss += loss.item() # loss.item() contains the loss of entire mini-batch, but divided by the batch size\n",
        "\n",
        "  model.eval()\n",
        "\n",
        "  for images, labels in validationloader: # each batch at a time\n",
        "    images, labels = next(iter(validationloader))\n",
        "    outputs = model(images)\n",
        "    loss = criterion(outputs, labels)\n",
        "\n",
        "    validation_loss += loss.item()\n",
        "\n",
        "  mean_trloss = training_loss/len(trainloader) # total loss from \"every batch/number of batches\"\n",
        "  mean_vloss = validation_loss/len(validationloader)\n",
        "\n",
        "  ttraining_losses.append(mean_trloss)\n",
        "  tvalidation_losses.append(mean_vloss)\n",
        "\n",
        "  print(\"Epoch: {}  |  Training Loss: {:.4f}  |  Validation Loss: {:.4f}  |\".format(epoch+1, mean_trloss, mean_vloss))\n",
        "\n",
        "  if mean_vloss <= min(tvalidation_losses):\n",
        "    print(\"Validation Loss has decreased - saving model...\")\n",
        "    torch.save(model.state_dict(), \"braintumorclassification.pth\")\n",
        "\n",
        "  end_epoch = datetime.datetime.now()\n",
        "  print(\"Epoch time:\", str(end_epoch-start_epoch) + \"\\n\")"
      ],
      "metadata": {
        "colab": {
          "base_uri": "https://localhost:8080/"
        },
        "id": "sCuYLgce-YF_",
        "outputId": "6391b919-fdf8-46f3-bf85-9c0fbbc89493"
      },
      "execution_count": null,
      "outputs": [
        {
          "output_type": "stream",
          "name": "stdout",
          "text": [
            "Epoch: 1  |  Training Loss: 1.0041  |  Validation Loss: 1.0235  |\n",
            "Validation Loss has decreased - saving model...\n",
            "Epoch time: 0:00:10.516138\n",
            "\n",
            "Epoch: 2  |  Training Loss: 0.9812  |  Validation Loss: 1.0174  |\n",
            "Validation Loss has decreased - saving model...\n",
            "Epoch time: 0:00:10.587854\n",
            "\n",
            "Epoch: 3  |  Training Loss: 0.9610  |  Validation Loss: 1.0396  |\n",
            "Epoch time: 0:00:10.575063\n",
            "\n",
            "Epoch: 4  |  Training Loss: 0.9335  |  Validation Loss: 1.0015  |\n",
            "Validation Loss has decreased - saving model...\n",
            "Epoch time: 0:00:10.728524\n",
            "\n",
            "Epoch: 5  |  Training Loss: 0.9219  |  Validation Loss: 0.9944  |\n",
            "Validation Loss has decreased - saving model...\n",
            "Epoch time: 0:00:10.503949\n",
            "\n",
            "Epoch: 6  |  Training Loss: 0.9068  |  Validation Loss: 0.9905  |\n",
            "Validation Loss has decreased - saving model...\n",
            "Epoch time: 0:00:10.401911\n",
            "\n",
            "Epoch: 7  |  Training Loss: 0.8850  |  Validation Loss: 0.9620  |\n",
            "Validation Loss has decreased - saving model...\n",
            "Epoch time: 0:00:10.744782\n",
            "\n",
            "Epoch: 8  |  Training Loss: 0.8705  |  Validation Loss: 1.0135  |\n",
            "Epoch time: 0:00:10.654543\n",
            "\n",
            "Epoch: 9  |  Training Loss: 0.8567  |  Validation Loss: 0.9243  |\n",
            "Validation Loss has decreased - saving model...\n",
            "Epoch time: 0:00:10.551618\n",
            "\n",
            "Epoch: 10  |  Training Loss: 0.8413  |  Validation Loss: 0.9582  |\n",
            "Epoch time: 0:00:10.377703\n",
            "\n",
            "Epoch: 11  |  Training Loss: 0.8295  |  Validation Loss: 0.9231  |\n",
            "Validation Loss has decreased - saving model...\n",
            "Epoch time: 0:00:10.415838\n",
            "\n",
            "Epoch: 12  |  Training Loss: 0.8191  |  Validation Loss: 0.9479  |\n",
            "Epoch time: 0:00:10.555249\n",
            "\n",
            "Epoch: 13  |  Training Loss: 0.8131  |  Validation Loss: 0.9687  |\n",
            "Epoch time: 0:00:10.573903\n",
            "\n",
            "Epoch: 14  |  Training Loss: 0.8062  |  Validation Loss: 1.0124  |\n",
            "Epoch time: 0:00:10.342793\n",
            "\n",
            "Epoch: 15  |  Training Loss: 0.8001  |  Validation Loss: 0.9479  |\n",
            "Epoch time: 0:00:10.566739\n",
            "\n",
            "Epoch: 16  |  Training Loss: 0.7896  |  Validation Loss: 0.9104  |\n",
            "Validation Loss has decreased - saving model...\n",
            "Epoch time: 0:00:10.519260\n",
            "\n",
            "Epoch: 17  |  Training Loss: 0.7882  |  Validation Loss: 0.9279  |\n",
            "Epoch time: 0:00:10.310785\n",
            "\n",
            "Epoch: 18  |  Training Loss: 0.7837  |  Validation Loss: 1.0210  |\n",
            "Epoch time: 0:00:10.405506\n",
            "\n",
            "Epoch: 19  |  Training Loss: 0.7845  |  Validation Loss: 0.9520  |\n",
            "Epoch time: 0:00:10.468363\n",
            "\n",
            "Epoch: 20  |  Training Loss: 0.7836  |  Validation Loss: 0.9472  |\n",
            "Epoch time: 0:00:10.342580\n",
            "\n",
            "Epoch: 21  |  Training Loss: 0.7779  |  Validation Loss: 1.0173  |\n",
            "Epoch time: 0:00:10.753002\n",
            "\n",
            "Epoch: 22  |  Training Loss: 0.7742  |  Validation Loss: 0.9271  |\n",
            "Epoch time: 0:00:10.762704\n",
            "\n",
            "Epoch: 23  |  Training Loss: 0.7705  |  Validation Loss: 0.9193  |\n",
            "Epoch time: 0:00:10.311389\n",
            "\n",
            "Epoch: 24  |  Training Loss: 0.7694  |  Validation Loss: 0.9219  |\n",
            "Epoch time: 0:00:10.356789\n",
            "\n",
            "Epoch: 25  |  Training Loss: 0.7657  |  Validation Loss: 0.9199  |\n",
            "Epoch time: 0:00:10.266321\n",
            "\n",
            "Epoch: 26  |  Training Loss: 0.7656  |  Validation Loss: 0.9296  |\n",
            "Epoch time: 0:00:10.269371\n",
            "\n",
            "Epoch: 27  |  Training Loss: 0.7654  |  Validation Loss: 0.9367  |\n",
            "Epoch time: 0:00:10.366850\n",
            "\n",
            "Epoch: 28  |  Training Loss: 0.7652  |  Validation Loss: 0.8952  |\n",
            "Validation Loss has decreased - saving model...\n",
            "Epoch time: 0:00:10.317156\n",
            "\n",
            "Epoch: 29  |  Training Loss: 0.7628  |  Validation Loss: 0.8903  |\n",
            "Validation Loss has decreased - saving model...\n",
            "Epoch time: 0:00:10.228501\n",
            "\n",
            "Epoch: 30  |  Training Loss: 0.7599  |  Validation Loss: 0.8610  |\n",
            "Validation Loss has decreased - saving model...\n",
            "Epoch time: 0:00:10.199405\n",
            "\n"
          ]
        }
      ]
    },
    {
      "cell_type": "code",
      "source": [
        "plt.plot(ttraining_losses, label=\"Training loss\")\n",
        "plt.plot(tvalidation_losses, label=\"Validation loss\")\n",
        "plt.legend(frameon=False)"
      ],
      "metadata": {
        "colab": {
          "base_uri": "https://localhost:8080/",
          "height": 284
        },
        "id": "KIwIBr2766O5",
        "outputId": "7cf5bc12-769e-4306-8230-0905941a495a"
      },
      "execution_count": null,
      "outputs": [
        {
          "output_type": "execute_result",
          "data": {
            "text/plain": [
              "<matplotlib.legend.Legend at 0x7f81332ecbd0>"
            ]
          },
          "metadata": {},
          "execution_count": 482
        },
        {
          "output_type": "display_data",
          "data": {
            "image/png": "[encoded data removed]",
            "text/plain": [
              "<Figure size 432x288 with 1 Axes>"
            ]
          },
          "metadata": {
            "needs_background": "light"
          }
        }
      ]
    },
    {
      "cell_type": "code",
      "source": [
        "loaded_model = torch.load(\"braintumorclassification.pth\")\n",
        "model.load_state_dict(loaded_model)"
      ],
      "metadata": {
        "colab": {
          "base_uri": "https://localhost:8080/"
        },
        "id": "a6kpbKmk7lhl",
        "outputId": "7d172a99-9b04-492b-cdfb-76fa0e6d01c5"
      },
      "execution_count": null,
      "outputs": [
        {
          "output_type": "execute_result",
          "data": {
            "text/plain": [
              "<All keys matched successfully>"
            ]
          },
          "metadata": {},
          "execution_count": 483
        }
      ]
    },
    {
      "cell_type": "code",
      "source": [
        "import numpy as np\n",
        "\n",
        "# testing\n",
        "test_correct = [0,0,0,0]\n",
        "test_total = [0,0,0,0]\n",
        "ttesting_loss = 0\n",
        "\n",
        "for images, labels in testingloader: # each batch at a time\n",
        "  torch.no_grad() # disabled gradient calculation\n",
        "  outputs = model(images)\n",
        "  testing_loss = criterion(outputs, labels)\n",
        "\n",
        "  ttesting_loss += testing_loss.item()\n",
        "\n",
        "  probabilities = torch.exp(outputs) # output is the log probablities, so we use torch.exp to take the exponential (get the actual probabilites)\n",
        "  top_probabilities, top_categories = probabilities.topk(1, dim=1)\n",
        "\n",
        "  for i in range(32): # from each batch\n",
        "    label = labels.data[i] # what label are we looking at\n",
        "    pred = top_categories[i]\n",
        "    if label == pred:\n",
        "      test_correct[label] += 1\n",
        "    test_total[label] += 1\n",
        "\n",
        "print(\"Testing Loss\", str(testing_loss/len(testingloader)), \"\\n\")\n",
        "\n",
        "gt_acc = (test_correct[0]/test_total[0])*100\n",
        "mt_acc = (test_correct[1]/test_total[1])*100\n",
        "nt_acc = (test_correct[2]/test_total[2])*100\n",
        "pt_acc = (test_correct[3]/test_total[3])*100\n",
        "\n",
        "accuracy = (gt_acc + mt_acc + nt_acc + pt_acc)/4\n",
        "\n",
        "print(\"Overall Accuracy: {:.2f}%\".format(accuracy))\n",
        "print(\"Accuracy of Glioma Tumour: {:.2f}%\".format(gt_acc))\n",
        "print(\"Accuracy of Meningioma Tumour: {:.2f}%\".format(mt_acc))\n",
        "print(\"Accuracy of No Tumour: {:.2f}%\".format(nt_acc))\n",
        "print(\"Accuracy of Pituitary Tumour: {:.2f}%\".format(pt_acc))"
      ],
      "metadata": {
        "colab": {
          "base_uri": "https://localhost:8080/"
        },
        "id": "ZzdZVT4F-aib",
        "outputId": "e8a36665-57b8-4b9d-a345-97e3346e76df"
      },
      "execution_count": null,
      "outputs": [
        {
          "output_type": "stream",
          "name": "stdout",
          "text": [
            "Testing Loss tensor(0.1012, grad_fn=<DivBackward0>) \n",
            "\n",
            "Overall Accuracy: 51.21%\n",
            "Accuracy of Glioma Tumour: 16.00%\n",
            "Accuracy of Meningioma Tumour: 68.70%\n",
            "Accuracy of No Tumour: 90.48%\n",
            "Accuracy of Pituitary Tumour: 29.69%\n"
          ]
        }
      ]
    },
    {
      "cell_type": "code",
      "source": [
        "# visualize the images\n",
        "nrows=4\n",
        "ncols=10\n",
        "\n",
        "visual_images, visual_labels = next(iter(testingloader))\n",
        "\n",
        "visual_images = visual_images[:4]\n",
        "visual_labels = visual_labels[:4]\n",
        "\n",
        "for i in range(len(visual_images)):\n",
        "  image = visual_images[i]\n",
        "  label = visual_labels[i]\n",
        "  image = image.unsqueeze(1)\n",
        "  image = image.permute(1,0,2,3)\n",
        "  output = model(image)\n",
        "  probabilities = torch.exp(output)\n",
        "  top_probabilities, top_categories = probabilities.topk(1, dim=1)\n",
        "  print(\"Predicition:\", categories[top_categories] + \" \\n\" +\n",
        "        \"Label:\", categories[label])\n",
        "  image = image.squeeze()\n",
        "  image = image.permute(1,2,0)\n",
        "  plt.imshow(image)\n",
        "  plt.show()\n",
        "  print(\"\\n\")"
      ],
      "metadata": {
        "colab": {
          "base_uri": "https://localhost:8080/",
          "height": 1000
        },
        "id": "ZnCkgPje8-hf",
        "outputId": "aaae5735-38d2-4596-8a86-1dd8580eaca5"
      },
      "execution_count": 564,
      "outputs": [
        {
          "output_type": "stream",
          "name": "stderr",
          "text": [
            "Clipping input data to the valid range for imshow with RGB data ([0..1] for floats or [0..255] for integers).\n"
          ]
        },
        {
          "output_type": "stream",
          "name": "stdout",
          "text": [
            "Predicition: meningioma_tumor \n",
            "Label: meningioma_tumor\n"
          ]
        },
        {
          "output_type": "display_data",
          "data": {
            "image/png": "[encoded data removed]",
            "text/plain": [
              "<Figure size 432x288 with 1 Axes>"
            ]
          },
          "metadata": {
            "needs_background": "light"
          }
        },
        {
          "output_type": "stream",
          "name": "stdout",
          "text": [
            "\n",
            "\n",
            "Predicition: no_tumor \n",
            "Label: no_tumor\n"
          ]
        },
        {
          "output_type": "stream",
          "name": "stderr",
          "text": [
            "Clipping input data to the valid range for imshow with RGB data ([0..1] for floats or [0..255] for integers).\n"
          ]
        },
        {
          "output_type": "display_data",
          "data": {
            "image/png": "[encoded data removed]",
            "text/plain": [
              "<Figure size 432x288 with 1 Axes>"
            ]
          },
          "metadata": {
            "needs_background": "light"
          }
        },
        {
          "output_type": "stream",
          "name": "stdout",
          "text": [
            "\n",
            "\n"
          ]
        },
        {
          "output_type": "stream",
          "name": "stderr",
          "text": [
            "Clipping input data to the valid range for imshow with RGB data ([0..1] for floats or [0..255] for integers).\n"
          ]
        },
        {
          "output_type": "stream",
          "name": "stdout",
          "text": [
            "Predicition: meningioma_tumor \n",
            "Label: glioma_tumor\n"
          ]
        },
        {
          "output_type": "display_data",
          "data": {
            "image/png": "[encoded data removed]",
            "text/plain": [
              "<Figure size 432x288 with 1 Axes>"
            ]
          },
          "metadata": {
            "needs_background": "light"
          }
        },
        {
          "output_type": "stream",
          "name": "stdout",
          "text": [
            "\n",
            "\n"
          ]
        },
        {
          "output_type": "stream",
          "name": "stderr",
          "text": [
            "Clipping input data to the valid range for imshow with RGB data ([0..1] for floats or [0..255] for integers).\n"
          ]
        },
        {
          "output_type": "stream",
          "name": "stdout",
          "text": [
            "Predicition: glioma_tumor \n",
            "Label: glioma_tumor\n"
          ]
        },
        {
          "output_type": "display_data",
          "data": {
            "image/png": "[encoded data removed]",
            "text/plain": [
              "<Figure size 432x288 with 1 Axes>"
            ]
          },
          "metadata": {
            "needs_background": "light"
          }
        },
        {
          "output_type": "stream",
          "name": "stdout",
          "text": [
            "\n",
            "\n"
          ]
        }
      ]
    }
  ],
  "metadata": {
    "colab": {
      "collapsed_sections": [],
      "name": "Brain Tumour Classification",
      "provenance": [],
      "authorship_tag": "ABX9TyMVaqV7S/yULeuAfxMmvKfL",
      "include_colab_link": true
    },
    "kernelspec": {
      "display_name": "Python 3",
      "name": "python3"
    },
    "language_info": {
      "name": "python"
    }
  },
  "nbformat": 4,
  "nbformat_minor": 0
}